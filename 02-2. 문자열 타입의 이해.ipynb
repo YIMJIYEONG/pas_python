{
 "cells": [
  {
   "cell_type": "markdown",
   "metadata": {},
   "source": [
    "**String 문자열**  \n",
    "쌍따옴표, 홑따옴표 모두 사용 가능(한줄 문자열 출력할 때 사용)  \n",
    "'''문자열''', \"\"\"문자열\"\"\"도 사용 가능 (여러줄 출력 가능)"
   ]
  },
  {
   "cell_type": "code",
   "execution_count": 5,
   "metadata": {},
   "outputs": [
    {
     "name": "stdout",
     "output_type": "stream",
     "text": [
      "hello World\n",
      "\"hello\", Python\n",
      "hello Python.\n",
      "\n",
      "hello Java\n"
     ]
    }
   ],
   "source": [
    "a = 'hello World'\n",
    "print(a)\n",
    "b = '\"hello\", Python'\n",
    "print(b)\n",
    "c = '''hello Python.\n",
    "\n",
    "hello Java'''\n",
    "print(c)"
   ]
  },
  {
   "cell_type": "markdown",
   "metadata": {},
   "source": [
    "**escape 문자**  \n",
    "문자열 내의 일부 문자의 의미를 달리하여 특정한 효과를 주는 것  \n",
    "\\n : 한줄 띄우기  \n",
    "\\t : 탭"
   ]
  },
  {
   "cell_type": "code",
   "execution_count": 7,
   "metadata": {},
   "outputs": [
    {
     "name": "stdout",
     "output_type": "stream",
     "text": [
      "hello\n",
      "hahaha!\n",
      "ha\tha\tha\n"
     ]
    }
   ],
   "source": [
    "print(\"hello\\nhahaha!\\nha\\tha\\tha\")"
   ]
  },
  {
   "cell_type": "markdown",
   "metadata": {},
   "source": [
    "**문자열 index 및 추출**  \n",
    "문자열에는 순서가 있다.  \n",
    "맨 마지막 문자를 구할때 자바처럼 length()-1 할필요 없이 -1하면 된다.  \n",
    "=> 음수 인덱스를 지원  \n",
    "=> 자바에서 사용되는 length()가 파이썬에서는 len() 함수"
   ]
  },
  {
   "cell_type": "code",
   "execution_count": 12,
   "metadata": {},
   "outputs": [
    {
     "name": "stdout",
     "output_type": "stream",
     "text": [
      "h\n",
      "n\n",
      "12\n",
      "n\n",
      "HELLO PYTHON\n",
      "hello python\n"
     ]
    }
   ],
   "source": [
    "str = 'hello Python'\n",
    "print(str[0])\n",
    "print(str[-1])\n",
    "print(len(str))\n",
    "print(str[len(str)-1])\n",
    "\n",
    "print(str.upper())\n",
    "str1 = \"HELLO PYTHON\"\n",
    "print(str1.lower())"
   ]
  },
  {
   "cell_type": "markdown",
   "metadata": {},
   "source": [
    "**replace**치환  \n",
    "문자열 내 특정문자를 치환  "
   ]
  },
  {
   "cell_type": "code",
   "execution_count": 24,
   "metadata": {},
   "outputs": [
    {
     "data": {
      "text/plain": [
       "'aello Pytaon'"
      ]
     },
     "execution_count": 24,
     "metadata": {},
     "output_type": "execute_result"
    }
   ],
   "source": [
    "str.replace(\"h\", \"a\")"
   ]
  },
  {
   "cell_type": "code",
   "execution_count": 23,
   "metadata": {},
   "outputs": [
    {
     "data": {
      "text/plain": [
       "'ello Pyton'"
      ]
     },
     "execution_count": 23,
     "metadata": {},
     "output_type": "execute_result"
    }
   ],
   "source": [
    "chg_str.replace(\"a\", \"\")"
   ]
  },
  {
   "cell_type": "markdown",
   "metadata": {},
   "source": [
    "**format**  \n",
    "문자열 내의 특정한 값을 변수로부터 초기화하여 동적으로 문자를 생성"
   ]
  },
  {
   "cell_type": "code",
   "execution_count": 32,
   "metadata": {},
   "outputs": [
    {
     "name": "stdout",
     "output_type": "stream",
     "text": [
      "오늘 기온 20도이고, 비 올 확률은 40%입니다.\n"
     ]
    }
   ],
   "source": [
    "temp = 20\n",
    "rain = 40\n",
    "weather = '오늘 기온 {}도이고, 비 올 확률은 {}%입니다.'\n",
    "weather2 = weather.format(temp, rain)\n",
    "print(weather2)"
   ]
  },
  {
   "cell_type": "markdown",
   "metadata": {},
   "source": [
    "**split**  \n",
    "문자열을 특정한 문자열로 구분하여 자름  \n",
    "결과가 python의 리스트 타입으로 나옴"
   ]
  },
  {
   "cell_type": "code",
   "execution_count": 35,
   "metadata": {},
   "outputs": [
    {
     "data": {
      "text/plain": [
       "['Life', 'is', 'too', 'short,', 'you', 'need', 'Python']"
      ]
     },
     "execution_count": 35,
     "metadata": {},
     "output_type": "execute_result"
    }
   ],
   "source": [
    "str = \"Life is too short, you need Python\"\n",
    "str.split(\" \")"
   ]
  }
 ],
 "metadata": {
  "kernelspec": {
   "display_name": "Python 3",
   "language": "python",
   "name": "python3"
  },
  "language_info": {
   "codemirror_mode": {
    "name": "ipython",
    "version": 3
   },
   "file_extension": ".py",
   "mimetype": "text/x-python",
   "name": "python",
   "nbconvert_exporter": "python",
   "pygments_lexer": "ipython3",
   "version": "3.7.3"
  }
 },
 "nbformat": 4,
 "nbformat_minor": 2
}
