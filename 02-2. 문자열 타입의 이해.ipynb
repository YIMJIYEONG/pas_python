{
 "cells": [
  {
   "cell_type": "markdown",
   "metadata": {},
   "source": [
    "**String 문자열**  \n",
    "쌍따옴표, 홑따옴표 모두 사용 가능(한줄 문자열 출력할 때 사용)  \n",
    "'''문자열''', \"\"\"문자열\"\"\"도 사용 가능 (여러줄 출력 가능)"
   ]
  },
  {
   "cell_type": "code",
   "execution_count": 5,
   "metadata": {},
   "outputs": [
    {
     "name": "stdout",
     "output_type": "stream",
     "text": [
      "hello World\n",
      "\"hello\", Python\n",
      "hello Python.\n",
      "\n",
      "hello Java\n"
     ]
    }
   ],
   "source": [
    "a = 'hello World'\n",
    "print(a)\n",
    "b = '\"hello\", Python'\n",
    "print(b)\n",
    "c = '''hello Python.\n",
    "\n",
    "hello Java'''\n",
    "print(c)"
   ]
  },
  {
   "cell_type": "markdown",
   "metadata": {},
   "source": [
    "**escape 문자**  \n",
    "문자열 내의 일부 문자의 의미를 달리하여 특정한 효과를 주는 것  \n",
    "\\n : 한줄 띄우기  \n",
    "\\t : 탭"
   ]
  },
  {
   "cell_type": "code",
   "execution_count": 7,
   "metadata": {},
   "outputs": [
    {
     "name": "stdout",
     "output_type": "stream",
     "text": [
      "hello\n",
      "hahaha!\n",
      "ha\tha\tha\n"
     ]
    }
   ],
   "source": [
    "print(\"hello\\nhahaha!\\nha\\tha\\tha\")"
   ]
  }
 ],
 "metadata": {
  "kernelspec": {
   "display_name": "Python 3",
   "language": "python",
   "name": "python3"
  },
  "language_info": {
   "codemirror_mode": {
    "name": "ipython",
    "version": 3
   },
   "file_extension": ".py",
   "mimetype": "text/x-python",
   "name": "python",
   "nbconvert_exporter": "python",
   "pygments_lexer": "ipython3",
   "version": "3.7.3"
  }
 },
 "nbformat": 4,
 "nbformat_minor": 2
}
