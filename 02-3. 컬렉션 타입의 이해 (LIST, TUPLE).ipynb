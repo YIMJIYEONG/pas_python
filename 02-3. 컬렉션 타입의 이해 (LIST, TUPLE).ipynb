{
 "cells": [
  {
   "cell_type": "markdown",
   "metadata": {},
   "source": [
    "**\"컬렉션 프레임워크\" list, tuple, set, dictionary**\n",
    "- 복수개의 값을 담을 수 있는 데이터구조\n",
    "- dictionary = {\"key\",\"value\"} = Json = 몽고DB\n",
    "- 리스트와 튜플의 차이점  \n",
    ": 리스트는 생성한 후 변경이 가능하지만, 튜플은 생성한 후 변경이 불가능하다.  \n",
    ": 튜플은 결과값을 반환받을 때 많이 사용된다.  \n",
    "-  list 생성법  \n",
    "  1)list = [1, 2, 3, 4, 5]  : 대괄호 이용  \n",
    "  2)list(1, 2, 3, 4, 5) : 리스트 함수로 생성   \n",
    "  3)str.split()  : split 함수로 생성\n"
   ]
  }
 ],
 "metadata": {
  "kernelspec": {
   "display_name": "Python 3",
   "language": "python",
   "name": "python3"
  },
  "language_info": {
   "codemirror_mode": {
    "name": "ipython",
    "version": 3
   },
   "file_extension": ".py",
   "mimetype": "text/x-python",
   "name": "python",
   "nbconvert_exporter": "python",
   "pygments_lexer": "ipython3",
   "version": "3.7.3"
  }
 },
 "nbformat": 4,
 "nbformat_minor": 2
}
